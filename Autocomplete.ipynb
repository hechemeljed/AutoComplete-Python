{
 "cells": [
  {
   "cell_type": "code",
   "execution_count": 1,
   "metadata": {
    "collapsed": true
   },
   "outputs": [],
   "source": [
    "class Autocomplete():\n",
    "\tdef __init__(self, word_list = []):\n",
    "\t\tself.children = {}\n",
    "\t\tself.word_list = word_list\n",
    "\t\tself.is_word_end = False\n",
    "\n",
    "\tdef findWordWithPrefix(self, pattern):\n",
    "\t\tfindWordWithPrefix_results = []\n",
    "\t\tif self.is_word_end:\n",
    "\t\t\tfindWordWithPrefix_results.append(pattern)\n",
    "\t\tfor (char, node) in self.children.items():\n",
    "\t\t\tfindWordWithPrefix_results.extend(node.findWordWithPrefix(pattern + char))\n",
    "\t\treturn findWordWithPrefix_results\n",
    "\n",
    "\tdef findPattern(self, pattern):\n",
    "\t\tnode = self\n",
    "\t\tfindPattern_results = []\n",
    "\t\tfor char in pattern:\n",
    "\t\t\tif char not in node.children:\n",
    "\t\t\t\treturn None\n",
    "\t\t\tnode = node.children[char]\n",
    "\t\tfindPattern_results = list(node.findWordWithPrefix(pattern))\n",
    "\t\treturn findPattern_results\n",
    "\t\t\n",
    "\tdef insertWord(self, word):\n",
    "\t\tfor char in word:\n",
    "\t\t\tif char not in self.children:\n",
    "\t\t\t\tself.children[char]= Autocomplete()\n",
    "\t\t\tself = self.children[char]\n",
    "\t\tself.is_word_end = True\t\n",
    "\t\t\n",
    "\tdef find(self, pattern):\n",
    "\t\tfind_results = []\n",
    "\t\tfor word in word_list:\n",
    "\t\t\tself.insertWord(word)\n",
    "\t\tfind_results = self.findPattern(pattern)\n",
    "\t\tif not find_results:\n",
    "\t\t\tprint(\"None\")\n",
    "\t\treturn find_results"
   ]
  },
  {
   "cell_type": "code",
   "execution_count": 2,
   "metadata": {
    "collapsed": true
   },
   "outputs": [],
   "source": [
    "if __name__==\"__main__\":\n",
    "\tword_list = ['aardvark', 'altimeter', 'apotactic', 'bagonet', 'boatlip', 'carburant', 'chyliferous', 'consonance', 'cyclospondylic', 'dictyostele', 'echelon', 'estadal', 'flaunty', 'gesneriaceous', \n",
    "'hygienic', 'infracentral', 'jipijapa', 'lipoceratous', 'melanthaceae']\n",
    "\tnewAutoC = Autocomplete(word_list)\n",
    "\tResNewAutoC = newAutoC.find('a')"
   ]
  },
  {
   "cell_type": "code",
   "execution_count": 3,
   "metadata": {
    "collapsed": false
   },
   "outputs": [
    {
     "data": {
      "text/plain": [
       "['aardvark', 'altimeter', 'apotactic']"
      ]
     },
     "execution_count": 3,
     "metadata": {},
     "output_type": "execute_result"
    }
   ],
   "source": [
    "ResNewAutoC"
   ]
  },
  {
   "cell_type": "code",
   "execution_count": 4,
   "metadata": {
    "collapsed": true
   },
   "outputs": [],
   "source": [
    "if __name__==\"__main__\":\n",
    "\tword_list = ['angiohydrotomy', 'angiospermal', 'anglist', 'angularization', 'anhungry', 'animalcule', 'anisaldehyde', 'anisometric', 'ankylenteron', 'annette']\n",
    "\tnewAutoC = Autocomplete(word_list)\n",
    "\tResNewAutoC = newAutoC.find('ani')"
   ]
  },
  {
   "cell_type": "code",
   "execution_count": 5,
   "metadata": {
    "collapsed": false
   },
   "outputs": [
    {
     "data": {
      "text/plain": [
       "['animalcule', 'anisaldehyde', 'anisometric']"
      ]
     },
     "execution_count": 5,
     "metadata": {},
     "output_type": "execute_result"
    }
   ],
   "source": [
    "ResNewAutoC"
   ]
  },
  {
   "cell_type": "code",
   "execution_count": 6,
   "metadata": {
    "collapsed": true
   },
   "outputs": [],
   "source": [
    "if __name__==\"__main__\":\n",
    "\tword_list = ['bagonet', 'consonance', 'estadal', 'hygienic', 'melanthaceae', 'overwander', 'prototypographer', 'siphonocladales', 'transferography', 'venturesomeness']\n",
    "\tnewAutoC = Autocomplete(word_list)\n",
    "\tResNewAutoC = newAutoC.find('venture')"
   ]
  },
  {
   "cell_type": "code",
   "execution_count": 7,
   "metadata": {
    "collapsed": false
   },
   "outputs": [
    {
     "data": {
      "text/plain": [
       "['venturesomeness']"
      ]
     },
     "execution_count": 7,
     "metadata": {},
     "output_type": "execute_result"
    }
   ],
   "source": [
    "ResNewAutoC"
   ]
  },
  {
   "cell_type": "code",
   "execution_count": 8,
   "metadata": {
    "collapsed": false
   },
   "outputs": [
    {
     "name": "stdout",
     "output_type": "stream",
     "text": [
      "None\n"
     ]
    }
   ],
   "source": [
    "if __name__==\"__main__\":\n",
    "\tword_list = ['anisaldehyde', 'anisometric', 'ankylenteron']\n",
    "\tnewAutoC = Autocomplete(word_list)\n",
    "\tResNewAutoC = newAutoC.find('foobar')"
   ]
  },
  {
   "cell_type": "code",
   "execution_count": null,
   "metadata": {
    "collapsed": true
   },
   "outputs": [],
   "source": []
  }
 ],
 "metadata": {
  "kernelspec": {
   "display_name": "Python 3",
   "language": "python",
   "name": "python3"
  },
  "language_info": {
   "codemirror_mode": {
    "name": "ipython",
    "version": 3
   },
   "file_extension": ".py",
   "mimetype": "text/x-python",
   "name": "python",
   "nbconvert_exporter": "python",
   "pygments_lexer": "ipython3",
   "version": "3.6.0"
  }
 },
 "nbformat": 4,
 "nbformat_minor": 2
}
